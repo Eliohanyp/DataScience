{
  "nbformat": 4,
  "nbformat_minor": 0,
  "metadata": {
    "colab": {
      "name": "Google_Data_Analytics_(COURSE01).ipynb",
      "provenance": [],
      "collapsed_sections": [],
      "toc_visible": true,
      "authorship_tag": "ABX9TyO6WwwJ/MS7GVD4VkgY7VX4",
      "include_colab_link": true
    },
    "kernelspec": {
      "name": "python3",
      "display_name": "Python 3"
    },
    "language_info": {
      "name": "python"
    }
  },
  "cells": [
    {
      "cell_type": "markdown",
      "metadata": {
        "id": "view-in-github",
        "colab_type": "text"
      },
      "source": [
        "<a href=\"https://colab.research.google.com/github/Eliohanyp/DataScience/blob/main/Google_Data_Analytics_(COURSE01).ipynb\" target=\"_parent\"><img src=\"https://colab.research.google.com/assets/colab-badge.svg\" alt=\"Open In Colab\"/></a>"
      ]
    },
    {
      "cell_type": "markdown",
      "source": [
        "#<center> Curso 1 – 📕 Fundamentos: Dados Em Todos os Lugares 📕\n",
        "<br>\n",
        "\n",
        "---\n",
        "\n"
      ],
      "metadata": {
        "id": "TXb70Gd6vZ2W"
      }
    },
    {
      "cell_type": "markdown",
      "source": [
        "\n",
        "<b><h1>Apresentando a análise de dados: </b>\n",
        "> Os dados nos ajudam a tomar decisões, na vida cotidiana e nos negócios. Nesta primeira parte do curso, você aprenderá como os analistas de dados usam ferramentas de seu comércio para informar essas decisões. Você também conhecerá mais sobre este curso e as expectativas gerais do programa.\n",
        "\n",
        "<b><h1>Pensando analiticamente:</b>\n",
        "> Os analistas de dados equilibram muitos papéis diferentes em seu trabalho. Nesta parte do curso, você aprenderá sobre algumas dessas funções e as principais habilidades necessárias. Você também explorará o pensamento analítico e como ele se relaciona com a tomada de decisões orientada por dados.\n",
        "\n",
        "<b><h1>Explorando o maravilhoso mundo dos dados:</b>\n",
        "> Os dados têm seu próprio ciclo de vida e os analistas de dados usam um processo de análise que atravessa e aproveita esse ciclo de vida. Nesta parte do curso, você aprenderá sobre o ciclo de vida dos dados e o processo de análise de dados. Ambos são relevantes para o seu trabalho neste programa e no trabalho como um futuro analista de dados. Você será apresentado a aplicativos que ajudam a orientar os dados pelo processo de análise de dados.\n",
        "\n",
        "<b><h1>Configurando uma caixa de ferramentas de dados: </b>\n",
        "> Planilhas, linguagens de consulta e ferramentas de visualização de dados são uma grande parte do trabalho de um analista de dados. Nesta parte do curso, você aprenderá os conceitos básicos para usá-los na análise de dados. Você entenderá como eles funcionam através dos exemplos fornecidos.\n",
        "\n",
        "<b><h1>Descobrindo possibilidades de carreira de dados:</b>\n",
        "> Todos os tipos de negócios valorizam o trabalho que os analistas de dados fazem. Nesta parte do curso, você examinará diferentes tipos de negócios e os trabalhos e tarefas que os analistas realizam para eles.\n",
        "\n",
        "<b><h1>Completando o Desafio do Curso:</b>\n",
        "> Ao final deste curso, você será capaz de colocar tudo o que aprendeu em perspectiva com o Desafio do Curso. O Course Challenge fará perguntas sobre os principais conceitos que você aprendeu e, em seguida, dará a você a oportunidade de aplicar esses conceitos em dois cenários.\n",
        "\n",
        "<br>\n",
        "\n",
        "---\n"
      ],
      "metadata": {
        "id": "jMuQ5Ebs3kU6"
      }
    },
    {
      "cell_type": "markdown",
      "source": [
        "\n",
        "## <br><b><center>📚 Estudo de caso: Novas Perspectivas de Dados 📚</b>\n",
        "<br>\n",
        "\n",
        "---\n"
      ],
      "metadata": {
        "id": "MXjJ8j58vbgt"
      }
    },
    {
      "cell_type": "markdown",
      "source": [
        "<br>\n",
        "<h3><center>Como você aprendeu, você pode encontrar dados praticamente em todos os lugares. Sempre que você observa e avalia algo no mundo, está coletando e analisando dados. Sua análise ajuda você a encontrar maneiras mais fáceis de fazer as coisas, identificar padrões para economizar tempo e descobrir novas perspectivas surpreendentes que podem mudar completamente a maneira como você experimenta as coisas.\n",
        "<br><br>\n",
        "\n",
        "<h3><center>Aqui está um exemplo da vida real de como um grupo de analistas de dados usou as seis etapas do processo de análise de dados para melhorar seu local de trabalho e seus processos de negócios. A história deles envolve algo chamado análise de pessoas – também conhecido como análise de recursos humanos ou análise de força de trabalho. A análise de pessoas é a prática de coletar e analisar dados sobre as pessoas que compõem a força de trabalho de uma empresa, a fim de obter insights para melhorar a forma como a empresa opera.\n",
        "<br><br>\n",
        "\n",
        "<h3><center>Ser um analista de pessoas envolve o uso da análise de dados para obter insights sobre os funcionários e como eles vivenciam suas vidas profissionais. Os insights são usados ​​para definir e criar um local de trabalho mais produtivo e empoderador. Isso pode liberar o potencial dos funcionários, motivar as pessoas a dar o melhor de si e garantir uma cultura da empresa justa e inclusiva. \n",
        "<br><br>\n",
        "\n",
        "<h3><center>As seis etapas do processo de análise de dados que você aprendeu neste programa são:<b> perguntar, preparar, processar, analisar, compartilhar e agir.</b> Essas seis etapas se aplicam a qualquer análise de dados. Continue lendo para saber como uma equipe de analistas de pessoas usou essas seis etapas para responder a uma pergunta de negócios.\n",
        "<br><br>\n",
        "\n",
        "<h3><center>Uma organização estava experimentando uma alta taxa de rotatividade entre as novas contratações. Muitos funcionários deixaram a empresa antes do final do primeiro ano de trabalho. Os analistas usaram o processo de análise de dados para responder à seguinte pergunta:<b> como a organização pode melhorar a taxa de retenção de novos funcionários? </b>\n",
        "<br><br>\n",
        "\n",
        "---\n",
        "\n"
      ],
      "metadata": {
        "id": "16g4BTaF3tlS"
      }
    },
    {
      "cell_type": "markdown",
      "source": [
        "### <center><h1><b>❓ PERGUNTE ❓</b></h1></center>\n",
        "\n",
        "<img src=\"https://d3c33hcgiwev3.cloudfront.net/imageAssetProxy.v1/Nxf_nX4JSJyX_51-CQic-A_9153cb6c7f9e4f6486ca5b392425e8f1_DA_C1M1L2R1_A.png?expiry=1645056000000&hmac=8LwyeZ6dKVp4zsi-Uj1b0L960ijI2dOhSl7CWHnIaEQ\"><br><br>\n",
        "\n",
        "<h3 align=\"center\">Primeiro, os analistas precisavam definir como seria o projeto e o que se qualificaria como resultado de sucesso. Então, para determinar essas coisas, eles <b>fizeram perguntas</b> eficazes e colaboraram com líderes e gerentes que estavam interessados ​​no resultado de sua análise de pessoas.<br> Estes foram os tipos de perguntas que eles fizeram:<br><br>\n",
        "\n",
        "<h3><b>\n",
        "*   O que você acha que os novos funcionários precisam aprender para serem bem-sucedidos em seu primeiro ano de trabalho?\n",
        "<h3><b>\n",
        "*   Você já coletou dados de novos funcionários antes? Em caso afirmativo, podemos ter acesso aos dados históricos?\n",
        "<h3><b>\n",
        "*   Você acredita que gerentes com taxas de retenção mais altas oferecem aos novos funcionários algo extra ou único?\n",
        "<h3><b>\n",
        "*   O que você suspeita ser a principal causa de insatisfação entre os novos funcionários?\n",
        "<h3><b>\n",
        "*   Em que porcentagem você gostaria que a retenção de funcionários aumentasse no próximo ano fiscal?\n",
        "<br><br>\n",
        "\n",
        "---\n",
        "\n"
      ],
      "metadata": {
        "id": "OGrD-C7zxErS"
      }
    },
    {
      "cell_type": "markdown",
      "source": [
        "### <center><h1><b>📈 PREPARE 📈</b></h1></center>\n",
        "\n",
        "<img src=\"https://d3c33hcgiwev3.cloudfront.net/imageAssetProxy.v1/YWrURSqZQWKq1EUqmXFiow_a86286a5a4f74e0eabf0e46e7e03836b_DA_C1M1L2R1_B.png?expiry=1645056000000&hmac=SyTR2mnFkmk34sbZORPu0XY9Qw-xuU_FENhD_ImkyzY\"><br><br>\n",
        "\n",
        "<h3 align=\"center\">Tudo começou com uma <b>preparação</b> sólida . O grupo construiu um cronograma de três meses e decidiu como queria transmitir seu progresso às partes interessadas. Ainda nessa etapa, os analistas identificaram quais dados precisavam para alcançar o resultado bem-sucedido que identificaram na etapa anterior – nesse caso, os analistas optaram por coletar os dados de uma pesquisa online com novos funcionários. <br>\n",
        "Estas foram as coisas que eles fizeram para se preparar:<br><br>\n",
        "\n",
        "<h3><b>\n",
        "*  Eles desenvolveram perguntas específicas para perguntar sobre a satisfação dos funcionários com diferentes processos de negócios, como contratação e integração, e sua remuneração geral.\n",
        "<h3><b>\n",
        "*   Eles estabeleceram regras para quem teria acesso aos dados coletados - neste caso, qualquer pessoa fora do grupo não teria acesso aos dados brutos, mas poderia visualizar dados resumidos ou agregados. Por exemplo, a remuneração de um indivíduo não estaria disponível, mas as faixas salariais para grupos de indivíduos seriam visíveis.\n",
        "<h3><b>\n",
        "*   Eles finalizaram quais informações específicas seriam coletadas e a melhor forma de apresentar os dados visualmente. Os analistas pensaram em possíveis problemas relacionados a projetos e dados e como evitá-los.\n",
        "<br><br>\n",
        "\n",
        "---\n",
        "\n"
      ],
      "metadata": {
        "id": "pCwf1aIvyxNZ"
      }
    },
    {
      "cell_type": "markdown",
      "source": [
        "### <center><h1><b>⚙️ PROCESSE ⚙️</b></h1></center>\n",
        "\n",
        "<img src=\"https://d3c33hcgiwev3.cloudfront.net/imageAssetProxy.v1/nvjkJ-_DQym45CfvwwMpZg_ca752b42a2494e299da71b7025254106_DA_C1M1L2R1_C.png?expiry=1645056000000&hmac=K0NS7Cc8TkM78NWk_SUptP4CIiS_2x-lFOUWCg-B7ng\"><br><br>\n",
        "\n",
        "<h3 align=\"center\">O grupo enviou a pesquisa. Grandes analistas sabem respeitar tanto seus dados quanto as pessoas que os fornecem. Como os funcionários forneceram os dados, era importante garantir que todos os funcionários dessem seu consentimento para participar. Os analistas de dados também garantiram que os funcionários entendessem como seus dados seriam <b>coletados, armazenados, gerenciados e protegidos</b>. Coletar e usar dados de forma ética é uma das responsabilidades dos analistas de dados. <br>Para manter a confidencialidade e proteger e armazenar os dados de forma eficaz, estas foram as etapas que tomaram:<br><br>\n",
        "\n",
        "<h3><b>\n",
        "*  Eles restringiram o acesso aos dados a um número limitado de analistas.\n",
        "<h3><b>\n",
        "*  Eles limparam os dados para garantir que estivessem completos, corretos e relevantes. Certos dados foram agregados e resumidos sem revelar respostas individuais.\n",
        "<h3><b>\n",
        "*  Eles carregaram dados brutos em um data warehouse interno para uma camada adicional de segurança.\n",
        "<br><br>\n",
        "\n",
        "---\n",
        "\n"
      ],
      "metadata": {
        "id": "sbDrIblO0IgI"
      }
    },
    {
      "cell_type": "markdown",
      "source": [
        "### <center><h1><b>🔍 ANALIZE 🔍</b></h1></center>\n",
        "\n",
        "<img src=\"https://d3c33hcgiwev3.cloudfront.net/imageAssetProxy.v1/4PjksQFESZK45LEBRCmScw_877ecbe661d24dfbb3a768cf90c742a7_DA_C1M1L2R1_D.png?expiry=1645056000000&hmac=ShkgpJzfiFUUHWQO8FJReFxpJiyje6Or0IsefLvp0Ek\"><br><br>\n",
        "\n",
        "<h3 align=\"center\">Então, os analistas fizeram o que sabem fazer melhor: analisar! A partir das pesquisas concluídas, os analistas de dados <b>descobriram</b> que a experiência de um funcionário com determinados processos era um indicador-chave da satisfação geral no trabalho. <br>Estas foram suas descobertas:<br><br>\n",
        "\n",
        "<h3><b>\n",
        "*  Os funcionários que passaram por um processo de contratação longo e complicado eram mais propensos a deixar a empresa.\n",
        "<h3><b>\n",
        "*  Os funcionários que passaram por um processo de avaliação e feedback eficiente e transparente tiveram maior probabilidade de permanecer na empresa.\n",
        "<br><br>\n",
        "<h3>O grupo sabia que era importante <b>documentar </b> exatamente o que encontraram na análise, independentemente dos resultados. <br>Fazer o contrário diminuiria a confiança no processo de pesquisa e reduziria sua capacidade de coletar dados verdadeiros de funcionários no futuro.<br><br>\n",
        "\n",
        "---\n",
        "\n"
      ],
      "metadata": {
        "id": "ZzFrkcL80ydK"
      }
    },
    {
      "cell_type": "markdown",
      "source": [
        "### <center><h1><b>🔗 COMPARTILHAR 🔗</b></h1></center>\n",
        "\n",
        "<img src=\"https://d3c33hcgiwev3.cloudfront.net/imageAssetProxy.v1/LnG2GdNaSGKxthnTWnhiyw_0e857a82d61b414d8333ea02f226c174_DA_C1M1L2R1_E.png?expiry=1645056000000&hmac=k1q8DbcLIcEE8FOyCjfZ1dQbysjgWJAL1YWdQsG0icM\"><br><br>\n",
        "\n",
        "<h3 align=\"center\">Assim como garantiram que os dados fossem cuidadosamente protegidos, os analistas também tiveram o cuidado de <b>compartilhar o relatório.</b> <br>Estas foram suas descobertas:<br><br>\n",
        "\n",
        "<h3><b>\n",
        "*  Eles compartilharam o relatório com os gerentes que atingiram ou excederam o número mínimo de subordinados diretos com respostas enviadas à pesquisa.\n",
        "<h3><b>\n",
        "*  Eles apresentaram os resultados aos gerentes para garantir que tivessem uma visão completa.\n",
        "<h3><b>\n",
        "*  Eles pediram aos gerentes que entregassem pessoalmente os resultados às suas equipes.\n",
        "<br>\n",
        "<h3>Esse processo deu aos gerentes a oportunidade de<b> comunicar os resultados </b>no contexto certo. Como resultado, eles podem ter conversas produtivas com a equipe sobre os próximos passos para melhorar o engajamento dos funcionários.<br><br>\n",
        "\n",
        "---\n",
        "\n"
      ],
      "metadata": {
        "id": "cb39BQi913sH"
      }
    },
    {
      "cell_type": "markdown",
      "source": [
        "### <center><h1><b>🏁 AGIR 🏁</b></h1></center>\n",
        "\n",
        "<img src=\"https://d3c33hcgiwev3.cloudfront.net/imageAssetProxy.v1/_lmptPOEQfCZqbTzhEHwTw_3a72cd9b1c664666b6d9168b81037439_DA_C1M1L2R1_F.png?expiry=1645056000000&hmac=oM_p0EAnKqIf7FBat-cbzYL7gQ939hX3pr6rz_QFab8\"><br><br>\n",
        "\n",
        "<h3 align=\"center\">A última etapa do processo para a equipe de analistas foi trabalhar com os líderes de sua empresa e decidir a melhor forma de <b>implementar mudanças e tomar ações </b>com base nas descobertas. <br>Estas foram suas recomendações: <br><br>\n",
        "\n",
        "<h3><b>\n",
        "*  Padronizar o processo de contratação e avaliação de colaboradores com base nas práticas mais eficientes e transparentes.\n",
        "<h3><b>\n",
        "*  Faça a mesma pesquisa anualmente e compare os resultados com os do ano anterior.\n",
        "<br><br>\n",
        "\n",
        "<h3>Um ano depois, a mesma pesquisa foi distribuída aos funcionários. Os analistas previram que uma comparação entre os dois conjuntos de resultados indicaria que o plano de ação funcionou. Acontece que as mudanças melhoraram o índice de retenção de novos funcionários e as ações realizadas pelos líderes foram bem sucedidas!<br><br>\n",
        "\n",
        "---\n",
        "\n"
      ],
      "metadata": {
        "id": "Oq2j_UlK2p74"
      }
    }
  ]
}