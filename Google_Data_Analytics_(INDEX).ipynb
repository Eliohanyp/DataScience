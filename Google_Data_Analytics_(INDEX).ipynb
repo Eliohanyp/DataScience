{
  "nbformat": 4,
  "nbformat_minor": 0,
  "metadata": {
    "colab": {
      "name": "Google_Data_Analytics_(INDEX).ipynb",
      "provenance": [],
      "collapsed_sections": [],
      "toc_visible": true,
      "authorship_tag": "ABX9TyMivf4hCEtrPsQMsUYrLjaq",
      "include_colab_link": true
    },
    "kernelspec": {
      "name": "python3",
      "display_name": "Python 3"
    },
    "language_info": {
      "name": "python"
    }
  },
  "cells": [
    {
      "cell_type": "markdown",
      "metadata": {
        "id": "view-in-github",
        "colab_type": "text"
      },
      "source": [
        "<a href=\"https://colab.research.google.com/github/Eliohanyp/DataScience/blob/main/Google_Data_Analytics_(INDEX).ipynb\" target=\"_parent\"><img src=\"https://colab.research.google.com/assets/colab-badge.svg\" alt=\"Open In Colab\"/></a>"
      ]
    },
    {
      "cell_type": "markdown",
      "source": [
        "#<h1><b><center>🖥️  Olá e bem-vindo! 🖥️</h1>\n",
        "\n",
        "---\n",
        "\n"
      ],
      "metadata": {
        "id": "eTKMPdzYk7m3"
      }
    },
    {
      "cell_type": "markdown",
      "source": [
        "<h3><center> Este notebook que você está prestes a explorar foi projetado especificamente para ajudar todo tipo de aluno a concluir com sucesso o certificado e se tornar um analista de dados júnior ou associado de nível básico. Nenhuma análise de dados anterior, matemática ou experiência estatística é necessária. Para ter sucesso, você só precisa estar aberto para aprender como os dados influenciam o mundo. </h3>\n",
        "\n",
        "---\n",
        "\n"
      ],
      "metadata": {
        "id": "q-UWjre7jXu1"
      }
    },
    {
      "cell_type": "markdown",
      "source": [
        "## <h1 ><b><center> ⚔️ Prepare-se para o trabalho ⚔️</h1>\n",
        "\n",
        "---\n",
        "\n",
        "<br>\n",
        "<h3><center>\n",
        "Todos os dias, a quantidade de dados por aí fica cada vez maior. Portanto, a capacidade de interpretá-lo de forma eficaz é mais importante do que nunca. A análise de dados está se tornando uma das opções de carreira que mais crescem e mais gratificantes no mundo. Na próxima década, a demanda por habilidades de análise de negócios provavelmente será maior do que a demanda por qualquer outra carreira (10,9% vs. 5,2%) (Fonte: Bureau of Labor Statistics). Todos os tipos de empresas em todo o mundo precisam de analistas de dados qualificados para resolver problemas e ajudá-los a tomar as melhores decisões de negócios possíveis. E agora, cinquenta e nove por cento das empresas têm planos de adicionar ainda mais cargos que exigem habilidades de análise de dados (Fonte: SHRM). Quando terminar este programa, você estará bem preparado para fazer escolhas inteligentes, estratégicas, \n",
        "\n",
        "<h3>Durante cada curso do programa, você concluirá muitas tarefas e projetos práticos com base na vida cotidiana e nas atividades práticas de um analista de dados. Ao longo do caminho, você aprenderá como fazer as perguntas certas e entender os objetivos. Você também aprenderá a limpar e organizar efetivamente grandes quantidades de dados para prepará-los para análises de alta qualidade. Além disso, você obterá experiência prática usando todos os tipos de ferramentas e técnicas que o ajudarão a reconhecer padrões e descobrir relacionamentos entre pontos de dados. E para ajudá-lo a comunicar os resultados de sua análise, você aprenderá a projetar visuais e painéis. Existe até a oportunidade de criar um estudo de caso, que você pode destacar em seu currículo para mostrar o que aprendeu para potenciais empregadores. \n",
        "<br><br>\n",
        "\n",
        "---\n",
        "\n"
      ],
      "metadata": {
        "id": "b47C9b1FlHi3"
      }
    },
    {
      "cell_type": "markdown",
      "source": [
        "#<br> <center><a target=\"_blank\"  href=\"https://colab.research.google.com/drive/10-pAj3mXBJnCvkDx-xju6qfP83Xf8Nxc\"> 📊 Curso 01 - Fundamentos: Dados em todos os lugares 📊</a>\n",
        "\n",
        "<br>\n",
        "\n",
        "<img src=\"https://d3c33hcgiwev3.cloudfront.net/imageAssetProxy.v1/4VmkhBljSKOZpIQZY1ijyg_0a978cdb91ef47e1bdff301364d98615_Screen-Shot-2021-03-03-at-12.57.36-PM.png?expiry=1645056000000&hmac=VpwLDTNpMEad5FA0aPM3PN5RHSaGzCwBmrD_HLCjkV0\"><br>\n",
        "<br>\n",
        "<h3>\n",
        "1. Fundamentos: dados, dados, em todos os lugares (este curso)<br>\n",
        "2. Faça perguntas para tomar decisões baseadas em dados<br>\n",
        "3. Preparar dados para exploração<br>\n",
        "4. Processar dados do sujo para o limpo<br>\n",
        "5. Analisar dados para responder a perguntas<br>\n",
        "6. Compartilhe dados através da arte da visualização<br>\n",
        "7. Análise de dados com programação R<br>\n",
        "8. Capstone do Google Data Analytics: conclua um estudo de caso<br><br>"
      ],
      "metadata": {
        "id": "kNx4_n9Zn1yq"
      }
    }
  ]
}